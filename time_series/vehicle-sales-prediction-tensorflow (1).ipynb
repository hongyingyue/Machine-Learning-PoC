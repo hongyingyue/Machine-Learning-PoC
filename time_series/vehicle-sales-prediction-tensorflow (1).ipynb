{
 "cells": [
  {
   "cell_type": "markdown",
   "id": "bb0d377a",
   "metadata": {
    "papermill": {
     "duration": 0.002831,
     "end_time": "2025-05-16T02:49:48.027348",
     "exception": false,
     "start_time": "2025-05-16T02:49:48.024517",
     "status": "completed"
    },
    "tags": []
   },
   "source": [
    "vehicle sales data\n",
    "- data in [kaggle dataste](https://www.kaggle.com/datasets/brendayue/china-vehicle-sales-data)"
   ]
  },
  {
   "cell_type": "code",
   "execution_count": 1,
   "id": "af6c017a",
   "metadata": {
    "execution": {
     "iopub.execute_input": "2025-05-16T02:49:48.032819Z",
     "iopub.status.busy": "2025-05-16T02:49:48.032563Z",
     "iopub.status.idle": "2025-05-16T02:49:52.474282Z",
     "shell.execute_reply": "2025-05-16T02:49:52.473247Z"
    },
    "papermill": {
     "duration": 4.446267,
     "end_time": "2025-05-16T02:49:52.475945",
     "exception": false,
     "start_time": "2025-05-16T02:49:48.029678",
     "status": "completed"
    },
    "tags": []
   },
   "outputs": [
    {
     "name": "stdout",
     "output_type": "stream",
     "text": [
      "\u001b[2K   \u001b[90m━━━━━━━━━━━━━━━━━━━━━━━━━━━━━━━━━━━━━━━━\u001b[0m \u001b[32m74.4/74.4 kB\u001b[0m \u001b[31m2.5 MB/s\u001b[0m eta \u001b[36m0:00:00\u001b[0m\r\n",
      "\u001b[?25h"
     ]
    }
   ],
   "source": [
    "!pip install tfts --quiet"
   ]
  },
  {
   "cell_type": "code",
   "execution_count": 2,
   "id": "cd93f2b1",
   "metadata": {
    "execution": {
     "iopub.execute_input": "2025-05-16T02:49:52.482353Z",
     "iopub.status.busy": "2025-05-16T02:49:52.482091Z",
     "iopub.status.idle": "2025-05-16T02:50:09.490987Z",
     "shell.execute_reply": "2025-05-16T02:50:09.489995Z"
    },
    "papermill": {
     "duration": 17.014133,
     "end_time": "2025-05-16T02:50:09.492944",
     "exception": false,
     "start_time": "2025-05-16T02:49:52.478811",
     "status": "completed"
    },
    "tags": []
   },
   "outputs": [
    {
     "name": "stderr",
     "output_type": "stream",
     "text": [
      "2025-05-16 02:49:55.547627: E external/local_xla/xla/stream_executor/cuda/cuda_fft.cc:477] Unable to register cuFFT factory: Attempting to register factory for plugin cuFFT when one has already been registered\n",
      "WARNING: All log messages before absl::InitializeLog() is called are written to STDERR\n",
      "E0000 00:00:1747363795.751419      19 cuda_dnn.cc:8310] Unable to register cuDNN factory: Attempting to register factory for plugin cuDNN when one has already been registered\n",
      "E0000 00:00:1747363795.806600      19 cuda_blas.cc:1418] Unable to register cuBLAS factory: Attempting to register factory for plugin cuBLAS when one has already been registered\n",
      "I0000 00:00:1747363809.433713      19 gpu_device.cc:2022] Created device /job:localhost/replica:0/task:0/device:GPU:0 with 15513 MB memory:  -> device: 0, name: Tesla P100-PCIE-16GB, pci bus id: 0000:00:04.0, compute capability: 6.0\n"
     ]
    }
   ],
   "source": [
    "import logging\n",
    "from typing import List, Optional, Union\n",
    "import numpy as np\n",
    "import pandas as pd\n",
    "import tensorflow as tf\n",
    "from tfts import AutoModel, AutoConfig, KerasTrainer"
   ]
  },
  {
   "cell_type": "code",
   "execution_count": 3,
   "id": "b79c26aa",
   "metadata": {
    "execution": {
     "iopub.execute_input": "2025-05-16T02:50:09.502215Z",
     "iopub.status.busy": "2025-05-16T02:50:09.501552Z",
     "iopub.status.idle": "2025-05-16T02:50:09.506557Z",
     "shell.execute_reply": "2025-05-16T02:50:09.505778Z"
    },
    "papermill": {
     "duration": 0.011339,
     "end_time": "2025-05-16T02:50:09.508436",
     "exception": false,
     "start_time": "2025-05-16T02:50:09.497097",
     "status": "completed"
    },
    "tags": []
   },
   "outputs": [],
   "source": [
    "class CFG:\n",
    "    input_dir = \"/kaggle/input/china-vehicle-sales-data/china_vehicle_sales_data.csv\"\n",
    "    train_sequence_length = 12\n",
    "    predict_sequence_length = 3\n"
   ]
  },
  {
   "cell_type": "code",
   "execution_count": 4,
   "id": "2457152a",
   "metadata": {
    "execution": {
     "iopub.execute_input": "2025-05-16T02:50:09.518205Z",
     "iopub.status.busy": "2025-05-16T02:50:09.517910Z",
     "iopub.status.idle": "2025-05-16T02:50:09.628283Z",
     "shell.execute_reply": "2025-05-16T02:50:09.627424Z"
    },
    "papermill": {
     "duration": 0.116531,
     "end_time": "2025-05-16T02:50:09.629616",
     "exception": false,
     "start_time": "2025-05-16T02:50:09.513085",
     "status": "completed"
    },
    "tags": []
   },
   "outputs": [
    {
     "data": {
      "text/html": [
       "<div>\n",
       "<style scoped>\n",
       "    .dataframe tbody tr th:only-of-type {\n",
       "        vertical-align: middle;\n",
       "    }\n",
       "\n",
       "    .dataframe tbody tr th {\n",
       "        vertical-align: top;\n",
       "    }\n",
       "\n",
       "    .dataframe thead th {\n",
       "        text-align: right;\n",
       "    }\n",
       "</style>\n",
       "<table border=\"1\" class=\"dataframe\">\n",
       "  <thead>\n",
       "    <tr style=\"text-align: right;\">\n",
       "      <th></th>\n",
       "      <th>Date</th>\n",
       "      <th>province</th>\n",
       "      <th>provinceId</th>\n",
       "      <th>popularity</th>\n",
       "      <th>model</th>\n",
       "      <th>bodyType</th>\n",
       "      <th>salesVolume</th>\n",
       "    </tr>\n",
       "  </thead>\n",
       "  <tbody>\n",
       "    <tr>\n",
       "      <th>0</th>\n",
       "      <td>201601</td>\n",
       "      <td>Shanghai</td>\n",
       "      <td>310000</td>\n",
       "      <td>1479</td>\n",
       "      <td>3c974920a76ac9c1</td>\n",
       "      <td>SUV</td>\n",
       "      <td>292</td>\n",
       "    </tr>\n",
       "    <tr>\n",
       "      <th>1</th>\n",
       "      <td>201601</td>\n",
       "      <td>Yunnan</td>\n",
       "      <td>530000</td>\n",
       "      <td>1594</td>\n",
       "      <td>3c974920a76ac9c1</td>\n",
       "      <td>SUV</td>\n",
       "      <td>466</td>\n",
       "    </tr>\n",
       "    <tr>\n",
       "      <th>2</th>\n",
       "      <td>201601</td>\n",
       "      <td>Inner Mongolia</td>\n",
       "      <td>150000</td>\n",
       "      <td>1479</td>\n",
       "      <td>3c974920a76ac9c1</td>\n",
       "      <td>SUV</td>\n",
       "      <td>257</td>\n",
       "    </tr>\n",
       "    <tr>\n",
       "      <th>3</th>\n",
       "      <td>201601</td>\n",
       "      <td>Beijing</td>\n",
       "      <td>110000</td>\n",
       "      <td>2370</td>\n",
       "      <td>3c974920a76ac9c1</td>\n",
       "      <td>SUV</td>\n",
       "      <td>408</td>\n",
       "    </tr>\n",
       "    <tr>\n",
       "      <th>4</th>\n",
       "      <td>201601</td>\n",
       "      <td>Sichuan</td>\n",
       "      <td>510000</td>\n",
       "      <td>3562</td>\n",
       "      <td>3c974920a76ac9c1</td>\n",
       "      <td>SUV</td>\n",
       "      <td>610</td>\n",
       "    </tr>\n",
       "  </tbody>\n",
       "</table>\n",
       "</div>"
      ],
      "text/plain": [
       "     Date        province  provinceId  popularity             model bodyType  \\\n",
       "0  201601        Shanghai      310000        1479  3c974920a76ac9c1      SUV   \n",
       "1  201601          Yunnan      530000        1594  3c974920a76ac9c1      SUV   \n",
       "2  201601  Inner Mongolia      150000        1479  3c974920a76ac9c1      SUV   \n",
       "3  201601         Beijing      110000        2370  3c974920a76ac9c1      SUV   \n",
       "4  201601         Sichuan      510000        3562  3c974920a76ac9c1      SUV   \n",
       "\n",
       "   salesVolume  \n",
       "0          292  \n",
       "1          466  \n",
       "2          257  \n",
       "3          408  \n",
       "4          610  "
      ]
     },
     "execution_count": 4,
     "metadata": {},
     "output_type": "execute_result"
    }
   ],
   "source": [
    "data = pd.read_csv(CFG.input_dir)\n",
    "\n",
    "data.head()"
   ]
  },
  {
   "cell_type": "code",
   "execution_count": 5,
   "id": "6b674127",
   "metadata": {
    "execution": {
     "iopub.execute_input": "2025-05-16T02:50:09.635994Z",
     "iopub.status.busy": "2025-05-16T02:50:09.635773Z",
     "iopub.status.idle": "2025-05-16T02:50:09.642094Z",
     "shell.execute_reply": "2025-05-16T02:50:09.641305Z"
    },
    "papermill": {
     "duration": 0.01082,
     "end_time": "2025-05-16T02:50:09.643286",
     "exception": false,
     "start_time": "2025-05-16T02:50:09.632466",
     "status": "completed"
    },
    "tags": []
   },
   "outputs": [],
   "source": [
    "# https://github.com/hongyingyue/Vehicle-sales-predictor/blob/main/vehicle_ml/feature/ts_feature.py\n",
    "\n",
    "logger = logging.getLogger(__name__)\n",
    "\n",
    "def add_lagging_feature(\n",
    "    data: pd.DataFrame,\n",
    "    groupby_column: Union[str, List[str]],\n",
    "    value_columns: List[str],\n",
    "    lags: List[int],\n",
    "    feature_columns: Optional[List[str]] = None,\n",
    "):\n",
    "    # note that the data should be sorted by time already\n",
    "    # the lagging feature could be further developed use f1 - f1_lag, or f1 / f1_lag\n",
    "\n",
    "    if not isinstance(groupby_column, (str, list)):\n",
    "        raise TypeError(f\"'groupby_column' must be a string or a list of strings, but got {type(groupby_column)}.\")\n",
    "\n",
    "    if not isinstance(value_columns, (list, tuple)):\n",
    "        raise TypeError(f\"'value_columns' must be a list of strings, but got {type(value_columns)}.\")\n",
    "\n",
    "    feature_columns: List[str] = feature_columns if feature_columns is not None else []\n",
    "    for column in value_columns:\n",
    "        if column not in data.columns:\n",
    "            raise ValueError(f\"Value column '{column}' not found in DataFrame.\")\n",
    "\n",
    "        for lag in lags:\n",
    "            feature_col_name = f\"{column}_lag{lag}\"\n",
    "            feature_columns.append(feature_col_name)\n",
    "            logger.debug(\n",
    "                f\"Creating lagging feature: {feature_col_name} for column '{column}' with lag {lag} and groupby '{groupby_column}'.\"\n",
    "            )\n",
    "            data[feature_col_name] = data.groupby(groupby_column)[column].shift(lag)\n",
    "    return data"
   ]
  },
  {
   "cell_type": "code",
   "execution_count": 6,
   "id": "6c26a66d",
   "metadata": {
    "execution": {
     "iopub.execute_input": "2025-05-16T02:50:09.649177Z",
     "iopub.status.busy": "2025-05-16T02:50:09.648793Z",
     "iopub.status.idle": "2025-05-16T02:50:09.734527Z",
     "shell.execute_reply": "2025-05-16T02:50:09.733463Z"
    },
    "papermill": {
     "duration": 0.090844,
     "end_time": "2025-05-16T02:50:09.736508",
     "exception": false,
     "start_time": "2025-05-16T02:50:09.645664",
     "status": "completed"
    },
    "tags": []
   },
   "outputs": [
    {
     "name": "stderr",
     "output_type": "stream",
     "text": [
      "/usr/local/lib/python3.11/dist-packages/pandas/io/formats/format.py:1458: RuntimeWarning: invalid value encountered in greater\n",
      "  has_large_values = (abs_vals > 1e6).any()\n",
      "/usr/local/lib/python3.11/dist-packages/pandas/io/formats/format.py:1459: RuntimeWarning: invalid value encountered in less\n",
      "  has_small_values = ((abs_vals < 10 ** (-self.digits)) & (abs_vals > 0)).any()\n",
      "/usr/local/lib/python3.11/dist-packages/pandas/io/formats/format.py:1459: RuntimeWarning: invalid value encountered in greater\n",
      "  has_small_values = ((abs_vals < 10 ** (-self.digits)) & (abs_vals > 0)).any()\n"
     ]
    },
    {
     "data": {
      "text/html": [
       "<div>\n",
       "<style scoped>\n",
       "    .dataframe tbody tr th:only-of-type {\n",
       "        vertical-align: middle;\n",
       "    }\n",
       "\n",
       "    .dataframe tbody tr th {\n",
       "        vertical-align: top;\n",
       "    }\n",
       "\n",
       "    .dataframe thead th {\n",
       "        text-align: right;\n",
       "    }\n",
       "</style>\n",
       "<table border=\"1\" class=\"dataframe\">\n",
       "  <thead>\n",
       "    <tr style=\"text-align: right;\">\n",
       "      <th></th>\n",
       "      <th>Date</th>\n",
       "      <th>province</th>\n",
       "      <th>provinceId</th>\n",
       "      <th>popularity</th>\n",
       "      <th>model</th>\n",
       "      <th>bodyType</th>\n",
       "      <th>salesVolume</th>\n",
       "      <th>salesVolume_lag1</th>\n",
       "      <th>salesVolume_lag2</th>\n",
       "      <th>salesVolume_lag3</th>\n",
       "      <th>salesVolume_lag4</th>\n",
       "      <th>salesVolume_lag5</th>\n",
       "      <th>salesVolume_lag6</th>\n",
       "      <th>salesVolume_lag7</th>\n",
       "      <th>salesVolume_lag8</th>\n",
       "      <th>salesVolume_lag9</th>\n",
       "      <th>salesVolume_lag10</th>\n",
       "      <th>salesVolume_lag11</th>\n",
       "    </tr>\n",
       "  </thead>\n",
       "  <tbody>\n",
       "    <tr>\n",
       "      <th>0</th>\n",
       "      <td>201601</td>\n",
       "      <td>Shanghai</td>\n",
       "      <td>310000</td>\n",
       "      <td>1479</td>\n",
       "      <td>3c974920a76ac9c1</td>\n",
       "      <td>SUV</td>\n",
       "      <td>292</td>\n",
       "      <td>NaN</td>\n",
       "      <td>NaN</td>\n",
       "      <td>NaN</td>\n",
       "      <td>NaN</td>\n",
       "      <td>NaN</td>\n",
       "      <td>NaN</td>\n",
       "      <td>NaN</td>\n",
       "      <td>NaN</td>\n",
       "      <td>NaN</td>\n",
       "      <td>NaN</td>\n",
       "      <td>NaN</td>\n",
       "    </tr>\n",
       "    <tr>\n",
       "      <th>1</th>\n",
       "      <td>201601</td>\n",
       "      <td>Yunnan</td>\n",
       "      <td>530000</td>\n",
       "      <td>1594</td>\n",
       "      <td>3c974920a76ac9c1</td>\n",
       "      <td>SUV</td>\n",
       "      <td>466</td>\n",
       "      <td>NaN</td>\n",
       "      <td>NaN</td>\n",
       "      <td>NaN</td>\n",
       "      <td>NaN</td>\n",
       "      <td>NaN</td>\n",
       "      <td>NaN</td>\n",
       "      <td>NaN</td>\n",
       "      <td>NaN</td>\n",
       "      <td>NaN</td>\n",
       "      <td>NaN</td>\n",
       "      <td>NaN</td>\n",
       "    </tr>\n",
       "    <tr>\n",
       "      <th>2</th>\n",
       "      <td>201601</td>\n",
       "      <td>Inner Mongolia</td>\n",
       "      <td>150000</td>\n",
       "      <td>1479</td>\n",
       "      <td>3c974920a76ac9c1</td>\n",
       "      <td>SUV</td>\n",
       "      <td>257</td>\n",
       "      <td>NaN</td>\n",
       "      <td>NaN</td>\n",
       "      <td>NaN</td>\n",
       "      <td>NaN</td>\n",
       "      <td>NaN</td>\n",
       "      <td>NaN</td>\n",
       "      <td>NaN</td>\n",
       "      <td>NaN</td>\n",
       "      <td>NaN</td>\n",
       "      <td>NaN</td>\n",
       "      <td>NaN</td>\n",
       "    </tr>\n",
       "    <tr>\n",
       "      <th>3</th>\n",
       "      <td>201601</td>\n",
       "      <td>Beijing</td>\n",
       "      <td>110000</td>\n",
       "      <td>2370</td>\n",
       "      <td>3c974920a76ac9c1</td>\n",
       "      <td>SUV</td>\n",
       "      <td>408</td>\n",
       "      <td>NaN</td>\n",
       "      <td>NaN</td>\n",
       "      <td>NaN</td>\n",
       "      <td>NaN</td>\n",
       "      <td>NaN</td>\n",
       "      <td>NaN</td>\n",
       "      <td>NaN</td>\n",
       "      <td>NaN</td>\n",
       "      <td>NaN</td>\n",
       "      <td>NaN</td>\n",
       "      <td>NaN</td>\n",
       "    </tr>\n",
       "    <tr>\n",
       "      <th>4</th>\n",
       "      <td>201601</td>\n",
       "      <td>Sichuan</td>\n",
       "      <td>510000</td>\n",
       "      <td>3562</td>\n",
       "      <td>3c974920a76ac9c1</td>\n",
       "      <td>SUV</td>\n",
       "      <td>610</td>\n",
       "      <td>NaN</td>\n",
       "      <td>NaN</td>\n",
       "      <td>NaN</td>\n",
       "      <td>NaN</td>\n",
       "      <td>NaN</td>\n",
       "      <td>NaN</td>\n",
       "      <td>NaN</td>\n",
       "      <td>NaN</td>\n",
       "      <td>NaN</td>\n",
       "      <td>NaN</td>\n",
       "      <td>NaN</td>\n",
       "    </tr>\n",
       "  </tbody>\n",
       "</table>\n",
       "</div>"
      ],
      "text/plain": [
       "     Date        province  provinceId  popularity             model bodyType  \\\n",
       "0  201601        Shanghai      310000        1479  3c974920a76ac9c1      SUV   \n",
       "1  201601          Yunnan      530000        1594  3c974920a76ac9c1      SUV   \n",
       "2  201601  Inner Mongolia      150000        1479  3c974920a76ac9c1      SUV   \n",
       "3  201601         Beijing      110000        2370  3c974920a76ac9c1      SUV   \n",
       "4  201601         Sichuan      510000        3562  3c974920a76ac9c1      SUV   \n",
       "\n",
       "   salesVolume  salesVolume_lag1  salesVolume_lag2  salesVolume_lag3  \\\n",
       "0          292               NaN               NaN               NaN   \n",
       "1          466               NaN               NaN               NaN   \n",
       "2          257               NaN               NaN               NaN   \n",
       "3          408               NaN               NaN               NaN   \n",
       "4          610               NaN               NaN               NaN   \n",
       "\n",
       "   salesVolume_lag4  salesVolume_lag5  salesVolume_lag6  salesVolume_lag7  \\\n",
       "0               NaN               NaN               NaN               NaN   \n",
       "1               NaN               NaN               NaN               NaN   \n",
       "2               NaN               NaN               NaN               NaN   \n",
       "3               NaN               NaN               NaN               NaN   \n",
       "4               NaN               NaN               NaN               NaN   \n",
       "\n",
       "   salesVolume_lag8  salesVolume_lag9  salesVolume_lag10  salesVolume_lag11  \n",
       "0               NaN               NaN                NaN                NaN  \n",
       "1               NaN               NaN                NaN                NaN  \n",
       "2               NaN               NaN                NaN                NaN  \n",
       "3               NaN               NaN                NaN                NaN  \n",
       "4               NaN               NaN                NaN                NaN  "
      ]
     },
     "execution_count": 6,
     "metadata": {},
     "output_type": "execute_result"
    }
   ],
   "source": [
    "feature_columns = []\n",
    "\n",
    "data = add_lagging_feature(data, groupby_column=[\"provinceId\", \"model\"], value_columns=[\"salesVolume\"], lags=list(range(1, 12)), feature_columns=feature_columns)\n",
    "\n",
    "data.head()"
   ]
  },
  {
   "cell_type": "code",
   "execution_count": 7,
   "id": "457d453e",
   "metadata": {
    "execution": {
     "iopub.execute_input": "2025-05-16T02:50:09.745696Z",
     "iopub.status.busy": "2025-05-16T02:50:09.745164Z",
     "iopub.status.idle": "2025-05-16T02:50:11.128034Z",
     "shell.execute_reply": "2025-05-16T02:50:11.127244Z"
    },
    "papermill": {
     "duration": 1.3884,
     "end_time": "2025-05-16T02:50:11.129283",
     "exception": false,
     "start_time": "2025-05-16T02:50:09.740883",
     "status": "completed"
    },
    "tags": []
   },
   "outputs": [
    {
     "name": "stderr",
     "output_type": "stream",
     "text": [
      "/tmp/ipykernel_19/3102104721.py:1: DeprecationWarning: DataFrameGroupBy.apply operated on the grouping columns. This behavior is deprecated, and in a future version of pandas the grouping columns will be excluded from the operation. Either pass `include_groups=False` to exclude the groupings or explicitly select the grouping columns after groupby to silence this warning.\n",
      "  grouped_sequence = data.groupby([\"provinceId\", \"model\"]).apply(\n"
     ]
    },
    {
     "data": {
      "text/plain": [
       "array([[[ 799.,   nan,   nan,   nan],\n",
       "        [ 424.,  799.,   nan,   nan],\n",
       "        [ 733.,  424.,  799.,   nan],\n",
       "        ...,\n",
       "        [ 544.,  659.,  630.,  670.],\n",
       "        [ 647.,  544.,  659.,  630.],\n",
       "        [ 640.,  647.,  544.,  659.]],\n",
       "\n",
       "       [[ 135.,   nan,   nan,   nan],\n",
       "        [  57.,  135.,   nan,   nan],\n",
       "        [ 160.,   57.,  135.,   nan],\n",
       "        ...,\n",
       "        [ 105.,  201.,  120.,  135.],\n",
       "        [ 148.,  105.,  201.,  120.],\n",
       "        [ 112.,  148.,  105.,  201.]],\n",
       "\n",
       "       [[ 872.,   nan,   nan,   nan],\n",
       "        [ 197.,  872.,   nan,   nan],\n",
       "        [ 494.,  197.,  872.,   nan],\n",
       "        ...,\n",
       "        [ 152.,  170.,  181.,  159.],\n",
       "        [ 213.,  152.,  170.,  181.],\n",
       "        [ 226.,  213.,  152.,  170.]],\n",
       "\n",
       "       ...,\n",
       "\n",
       "       [[ 181.,   nan,   nan,   nan],\n",
       "        [  60.,  181.,   nan,   nan],\n",
       "        [ 111.,   60.,  181.,   nan],\n",
       "        ...,\n",
       "        [ 330.,  297.,  252.,  199.],\n",
       "        [ 178.,  330.,  297.,  252.],\n",
       "        [ 185.,  178.,  330.,  297.]],\n",
       "\n",
       "       [[1023.,   nan,   nan,   nan],\n",
       "        [ 517., 1023.,   nan,   nan],\n",
       "        [ 513.,  517., 1023.,   nan],\n",
       "        ...,\n",
       "        [1110.,  991.,  975.,  798.],\n",
       "        [ 967., 1110.,  991.,  975.],\n",
       "        [1581.,  967., 1110.,  991.]],\n",
       "\n",
       "       [[ 170.,   nan,   nan,   nan],\n",
       "        [  37.,  170.,   nan,   nan],\n",
       "        [ 124.,   37.,  170.,   nan],\n",
       "        ...,\n",
       "        [ 229.,  236.,  208.,  749.],\n",
       "        [ 240.,  229.,  236.,  208.],\n",
       "        [ 337.,  240.,  229.,  236.]]])"
      ]
     },
     "execution_count": 7,
     "metadata": {},
     "output_type": "execute_result"
    }
   ],
   "source": [
    "grouped_sequence = data.groupby([\"provinceId\", \"model\"]).apply(\n",
    "    lambda x: x.sort_values('Date')[[\"salesVolume\", \"salesVolume_lag1\", \"salesVolume_lag2\", \"salesVolume_lag3\"]].to_numpy()\n",
    ")\n",
    "\n",
    "data_3d = np.stack(grouped_sequence.values)\n",
    "\n",
    "data_3d"
   ]
  },
  {
   "cell_type": "code",
   "execution_count": 8,
   "id": "b141753f",
   "metadata": {
    "execution": {
     "iopub.execute_input": "2025-05-16T02:50:11.136255Z",
     "iopub.status.busy": "2025-05-16T02:50:11.135797Z",
     "iopub.status.idle": "2025-05-16T02:50:11.144981Z",
     "shell.execute_reply": "2025-05-16T02:50:11.144469Z"
    },
    "papermill": {
     "duration": 0.013747,
     "end_time": "2025-05-16T02:50:11.146090",
     "exception": false,
     "start_time": "2025-05-16T02:50:11.132343",
     "status": "completed"
    },
    "tags": []
   },
   "outputs": [],
   "source": [
    "from tensorflow.keras.utils import Sequence\n",
    "\n",
    "\n",
    "class TimeDataset(Sequence):\n",
    "    def __init__(self, data, train_sequence_length, predict_sequence_length, batch_size: int = 64):\n",
    "        self.data = data\n",
    "        self.train_seq_len = train_sequence_length\n",
    "        self.pred_seq_len = predict_sequence_length\n",
    "        self.batch_size = batch_size\n",
    "\n",
    "        self.num_ids = data.shape[0]\n",
    "        self.max_seq_len = data.shape[1]\n",
    "        self.feature_dim = data.shape[2]\n",
    "\n",
    "        self.samples_per_id = self.max_seq_len - self.train_seq_len - self.pred_seq_len + 1\n",
    "        self.total_samples = self.num_ids * self.samples_per_id\n",
    "\n",
    "        # Precompute all valid (id, start_idx) pairs\n",
    "        self.indices = [\n",
    "            (i, j)\n",
    "            for i in range(self.num_ids)\n",
    "            for j in range(self.samples_per_id)\n",
    "        ]\n",
    "    \n",
    "    def __getitem__(self, index):\n",
    "        # batch-wise item        \n",
    "        batch_indices = self.indices[index * self.batch_size:(index + 1) * self.batch_size]\n",
    "        \n",
    "        x_batch = []\n",
    "        y_batch = []\n",
    "\n",
    "        for id_idx, start_idx in batch_indices:\n",
    "            x = self.data[id_idx, start_idx:start_idx + self.train_seq_len, 1:]\n",
    "            y = self.data[id_idx, start_idx + self.train_seq_len:start_idx + self.train_seq_len + self.pred_seq_len, 0]\n",
    "            x_batch.append(x)\n",
    "            y_batch.append(y)\n",
    "\n",
    "        return np.nan_to_num(np.array(x_batch)), np.nan_to_num(np.array(y_batch))\n",
    "    \n",
    "    def __len__(self):\n",
    "        # depends on how many samples you want to extract from 1 ID\n",
    "        return int(np.ceil(len(self.indices) / self.batch_size))"
   ]
  },
  {
   "cell_type": "code",
   "execution_count": 9,
   "id": "ac417c3d",
   "metadata": {
    "execution": {
     "iopub.execute_input": "2025-05-16T02:50:11.153097Z",
     "iopub.status.busy": "2025-05-16T02:50:11.152458Z",
     "iopub.status.idle": "2025-05-16T02:50:11.162165Z",
     "shell.execute_reply": "2025-05-16T02:50:11.161518Z"
    },
    "papermill": {
     "duration": 0.014177,
     "end_time": "2025-05-16T02:50:11.163314",
     "exception": false,
     "start_time": "2025-05-16T02:50:11.149137",
     "status": "completed"
    },
    "tags": []
   },
   "outputs": [
    {
     "name": "stdout",
     "output_type": "stream",
     "text": [
      "(64, 12, 3)\n",
      "(64, 3)\n"
     ]
    }
   ],
   "source": [
    "train_dataset = TimeDataset(data_3d, CFG.train_sequence_length, CFG.predict_sequence_length)\n",
    "valid_dataset = TimeDataset(data_3d, CFG.train_sequence_length, CFG.predict_sequence_length)\n",
    "\n",
    "print(train_dataset[0][0].shape)\n",
    "print(train_dataset[0][1].shape)"
   ]
  },
  {
   "cell_type": "code",
   "execution_count": 10,
   "id": "6a3cc9ee",
   "metadata": {
    "execution": {
     "iopub.execute_input": "2025-05-16T02:50:11.170327Z",
     "iopub.status.busy": "2025-05-16T02:50:11.169583Z",
     "iopub.status.idle": "2025-05-16T02:50:12.527408Z",
     "shell.execute_reply": "2025-05-16T02:50:12.526739Z"
    },
    "papermill": {
     "duration": 1.36238,
     "end_time": "2025-05-16T02:50:12.528531",
     "exception": false,
     "start_time": "2025-05-16T02:50:11.166151",
     "status": "completed"
    },
    "tags": []
   },
   "outputs": [
    {
     "data": {
      "text/html": [
       "<pre style=\"white-space:pre;overflow-x:auto;line-height:normal;font-family:Menlo,'DejaVu Sans Mono',consolas,'Courier New',monospace\"><span style=\"font-weight: bold\">Model: \"functional\"</span>\n",
       "</pre>\n"
      ],
      "text/plain": [
       "\u001b[1mModel: \"functional\"\u001b[0m\n"
      ]
     },
     "metadata": {},
     "output_type": "display_data"
    },
    {
     "data": {
      "text/html": [
       "<pre style=\"white-space:pre;overflow-x:auto;line-height:normal;font-family:Menlo,'DejaVu Sans Mono',consolas,'Courier New',monospace\">┏━━━━━━━━━━━━━━━━━━━━━━━━━━━━━━━━━━━━━━┳━━━━━━━━━━━━━━━━━━━━━━━━━━━━━┳━━━━━━━━━━━━━━━━━┓\n",
       "┃<span style=\"font-weight: bold\"> Layer (type)                         </span>┃<span style=\"font-weight: bold\"> Output Shape                </span>┃<span style=\"font-weight: bold\">         Param # </span>┃\n",
       "┡━━━━━━━━━━━━━━━━━━━━━━━━━━━━━━━━━━━━━━╇━━━━━━━━━━━━━━━━━━━━━━━━━━━━━╇━━━━━━━━━━━━━━━━━┩\n",
       "│ input_layer (<span style=\"color: #0087ff; text-decoration-color: #0087ff\">InputLayer</span>)             │ (<span style=\"color: #00d7ff; text-decoration-color: #00d7ff\">None</span>, <span style=\"color: #00af00; text-decoration-color: #00af00\">12</span>, <span style=\"color: #00af00; text-decoration-color: #00af00\">3</span>)               │               <span style=\"color: #00af00; text-decoration-color: #00af00\">0</span> │\n",
       "├──────────────────────────────────────┼─────────────────────────────┼─────────────────┤\n",
       "│ encoder (<span style=\"color: #0087ff; text-decoration-color: #0087ff\">Encoder</span>)                    │ [(<span style=\"color: #00d7ff; text-decoration-color: #00d7ff\">None</span>, <span style=\"color: #00af00; text-decoration-color: #00af00\">12</span>, <span style=\"color: #00af00; text-decoration-color: #00af00\">64</span>), (<span style=\"color: #00d7ff; text-decoration-color: #00d7ff\">None</span>,     │               <span style=\"color: #00af00; text-decoration-color: #00af00\">0</span> │\n",
       "│                                      │ <span style=\"color: #00af00; text-decoration-color: #00af00\">128</span>)]                       │                 │\n",
       "├──────────────────────────────────────┼─────────────────────────────┼─────────────────┤\n",
       "│ dense (<span style=\"color: #0087ff; text-decoration-color: #0087ff\">Dense</span>)                        │ (<span style=\"color: #00d7ff; text-decoration-color: #00d7ff\">None</span>, <span style=\"color: #00af00; text-decoration-color: #00af00\">128</span>)                 │          <span style=\"color: #00af00; text-decoration-color: #00af00\">16,512</span> │\n",
       "├──────────────────────────────────────┼─────────────────────────────┼─────────────────┤\n",
       "│ dense_1 (<span style=\"color: #0087ff; text-decoration-color: #0087ff\">Dense</span>)                      │ (<span style=\"color: #00d7ff; text-decoration-color: #00d7ff\">None</span>, <span style=\"color: #00af00; text-decoration-color: #00af00\">128</span>)                 │          <span style=\"color: #00af00; text-decoration-color: #00af00\">16,512</span> │\n",
       "├──────────────────────────────────────┼─────────────────────────────┼─────────────────┤\n",
       "│ dense_2 (<span style=\"color: #0087ff; text-decoration-color: #0087ff\">Dense</span>)                      │ (<span style=\"color: #00d7ff; text-decoration-color: #00d7ff\">None</span>, <span style=\"color: #00af00; text-decoration-color: #00af00\">1</span>)                   │             <span style=\"color: #00af00; text-decoration-color: #00af00\">129</span> │\n",
       "├──────────────────────────────────────┼─────────────────────────────┼─────────────────┤\n",
       "│ reshape (<span style=\"color: #0087ff; text-decoration-color: #0087ff\">Reshape</span>)                    │ (<span style=\"color: #00d7ff; text-decoration-color: #00d7ff\">None</span>, <span style=\"color: #00af00; text-decoration-color: #00af00\">1</span>, <span style=\"color: #00af00; text-decoration-color: #00af00\">1</span>)                │               <span style=\"color: #00af00; text-decoration-color: #00af00\">0</span> │\n",
       "└──────────────────────────────────────┴─────────────────────────────┴─────────────────┘\n",
       "</pre>\n"
      ],
      "text/plain": [
       "┏━━━━━━━━━━━━━━━━━━━━━━━━━━━━━━━━━━━━━━┳━━━━━━━━━━━━━━━━━━━━━━━━━━━━━┳━━━━━━━━━━━━━━━━━┓\n",
       "┃\u001b[1m \u001b[0m\u001b[1mLayer (type)                        \u001b[0m\u001b[1m \u001b[0m┃\u001b[1m \u001b[0m\u001b[1mOutput Shape               \u001b[0m\u001b[1m \u001b[0m┃\u001b[1m \u001b[0m\u001b[1m        Param #\u001b[0m\u001b[1m \u001b[0m┃\n",
       "┡━━━━━━━━━━━━━━━━━━━━━━━━━━━━━━━━━━━━━━╇━━━━━━━━━━━━━━━━━━━━━━━━━━━━━╇━━━━━━━━━━━━━━━━━┩\n",
       "│ input_layer (\u001b[38;5;33mInputLayer\u001b[0m)             │ (\u001b[38;5;45mNone\u001b[0m, \u001b[38;5;34m12\u001b[0m, \u001b[38;5;34m3\u001b[0m)               │               \u001b[38;5;34m0\u001b[0m │\n",
       "├──────────────────────────────────────┼─────────────────────────────┼─────────────────┤\n",
       "│ encoder (\u001b[38;5;33mEncoder\u001b[0m)                    │ [(\u001b[38;5;45mNone\u001b[0m, \u001b[38;5;34m12\u001b[0m, \u001b[38;5;34m64\u001b[0m), (\u001b[38;5;45mNone\u001b[0m,     │               \u001b[38;5;34m0\u001b[0m │\n",
       "│                                      │ \u001b[38;5;34m128\u001b[0m)]                       │                 │\n",
       "├──────────────────────────────────────┼─────────────────────────────┼─────────────────┤\n",
       "│ dense (\u001b[38;5;33mDense\u001b[0m)                        │ (\u001b[38;5;45mNone\u001b[0m, \u001b[38;5;34m128\u001b[0m)                 │          \u001b[38;5;34m16,512\u001b[0m │\n",
       "├──────────────────────────────────────┼─────────────────────────────┼─────────────────┤\n",
       "│ dense_1 (\u001b[38;5;33mDense\u001b[0m)                      │ (\u001b[38;5;45mNone\u001b[0m, \u001b[38;5;34m128\u001b[0m)                 │          \u001b[38;5;34m16,512\u001b[0m │\n",
       "├──────────────────────────────────────┼─────────────────────────────┼─────────────────┤\n",
       "│ dense_2 (\u001b[38;5;33mDense\u001b[0m)                      │ (\u001b[38;5;45mNone\u001b[0m, \u001b[38;5;34m1\u001b[0m)                   │             \u001b[38;5;34m129\u001b[0m │\n",
       "├──────────────────────────────────────┼─────────────────────────────┼─────────────────┤\n",
       "│ reshape (\u001b[38;5;33mReshape\u001b[0m)                    │ (\u001b[38;5;45mNone\u001b[0m, \u001b[38;5;34m1\u001b[0m, \u001b[38;5;34m1\u001b[0m)                │               \u001b[38;5;34m0\u001b[0m │\n",
       "└──────────────────────────────────────┴─────────────────────────────┴─────────────────┘\n"
      ]
     },
     "metadata": {},
     "output_type": "display_data"
    },
    {
     "data": {
      "text/html": [
       "<pre style=\"white-space:pre;overflow-x:auto;line-height:normal;font-family:Menlo,'DejaVu Sans Mono',consolas,'Courier New',monospace\"><span style=\"font-weight: bold\"> Total params: </span><span style=\"color: #00af00; text-decoration-color: #00af00\">33,153</span> (129.50 KB)\n",
       "</pre>\n"
      ],
      "text/plain": [
       "\u001b[1m Total params: \u001b[0m\u001b[38;5;34m33,153\u001b[0m (129.50 KB)\n"
      ]
     },
     "metadata": {},
     "output_type": "display_data"
    },
    {
     "data": {
      "text/html": [
       "<pre style=\"white-space:pre;overflow-x:auto;line-height:normal;font-family:Menlo,'DejaVu Sans Mono',consolas,'Courier New',monospace\"><span style=\"font-weight: bold\"> Trainable params: </span><span style=\"color: #00af00; text-decoration-color: #00af00\">33,153</span> (129.50 KB)\n",
       "</pre>\n"
      ],
      "text/plain": [
       "\u001b[1m Trainable params: \u001b[0m\u001b[38;5;34m33,153\u001b[0m (129.50 KB)\n"
      ]
     },
     "metadata": {},
     "output_type": "display_data"
    },
    {
     "data": {
      "text/html": [
       "<pre style=\"white-space:pre;overflow-x:auto;line-height:normal;font-family:Menlo,'DejaVu Sans Mono',consolas,'Courier New',monospace\"><span style=\"font-weight: bold\"> Non-trainable params: </span><span style=\"color: #00af00; text-decoration-color: #00af00\">0</span> (0.00 B)\n",
       "</pre>\n"
      ],
      "text/plain": [
       "\u001b[1m Non-trainable params: \u001b[0m\u001b[38;5;34m0\u001b[0m (0.00 B)\n"
      ]
     },
     "metadata": {},
     "output_type": "display_data"
    }
   ],
   "source": [
    "def build_model():\n",
    "    inputs = tf.keras.Input(shape=(CFG.train_sequence_length, 3))\n",
    "    \n",
    "    config = AutoConfig()(\"rnn\")\n",
    "    config.rnn_type = \"lstm\"\n",
    "    backbone = AutoModel.from_config(config=config)\n",
    "    \n",
    "    outputs = backbone(inputs)\n",
    "    model = tf.keras.Model(inputs=inputs, outputs=outputs)\n",
    "    model.compile(loss=tf.keras.losses.MeanAbsoluteError(), optimizer=tf.keras.optimizers.Adam(), metrics = ['mae'])\n",
    "    return model\n",
    "\n",
    "\n",
    "model = build_model()\n",
    "model.summary()"
   ]
  },
  {
   "cell_type": "code",
   "execution_count": 11,
   "id": "d13f0ce1",
   "metadata": {
    "execution": {
     "iopub.execute_input": "2025-05-16T02:50:12.536919Z",
     "iopub.status.busy": "2025-05-16T02:50:12.536488Z",
     "iopub.status.idle": "2025-05-16T02:50:40.889410Z",
     "shell.execute_reply": "2025-05-16T02:50:40.888816Z"
    },
    "papermill": {
     "duration": 28.358352,
     "end_time": "2025-05-16T02:50:40.890731",
     "exception": false,
     "start_time": "2025-05-16T02:50:12.532379",
     "status": "completed"
    },
    "tags": []
   },
   "outputs": [
    {
     "name": "stdout",
     "output_type": "stream",
     "text": [
      "Epoch 1/10\n"
     ]
    },
    {
     "name": "stderr",
     "output_type": "stream",
     "text": [
      "/usr/local/lib/python3.11/dist-packages/keras/src/trainers/data_adapters/py_dataset_adapter.py:121: UserWarning: Your `PyDataset` class should call `super().__init__(**kwargs)` in its constructor. `**kwargs` can include `workers`, `use_multiprocessing`, `max_queue_size`. Do not pass these arguments to `fit()`, as they will be ignored.\n",
      "  self._warn_if_super_not_called()\n",
      "I0000 00:00:1747363815.790123      65 cuda_dnn.cc:529] Loaded cuDNN version 90300\n"
     ]
    },
    {
     "name": "stdout",
     "output_type": "stream",
     "text": [
      "\u001b[1m282/282\u001b[0m \u001b[32m━━━━━━━━━━━━━━━━━━━━\u001b[0m\u001b[37m\u001b[0m \u001b[1m7s\u001b[0m 9ms/step - loss: 324.2088 - mae: 324.2088 - val_loss: 197.0513 - val_mae: 197.0513\n",
      "Epoch 2/10\n",
      "\u001b[1m282/282\u001b[0m \u001b[32m━━━━━━━━━━━━━━━━━━━━\u001b[0m\u001b[37m\u001b[0m \u001b[1m2s\u001b[0m 8ms/step - loss: 211.5362 - mae: 211.5362 - val_loss: 187.4890 - val_mae: 187.4890\n",
      "Epoch 3/10\n",
      "\u001b[1m282/282\u001b[0m \u001b[32m━━━━━━━━━━━━━━━━━━━━\u001b[0m\u001b[37m\u001b[0m \u001b[1m3s\u001b[0m 9ms/step - loss: 174.5251 - mae: 174.5251 - val_loss: 162.3955 - val_mae: 162.3955\n",
      "Epoch 4/10\n",
      "\u001b[1m282/282\u001b[0m \u001b[32m━━━━━━━━━━━━━━━━━━━━\u001b[0m\u001b[37m\u001b[0m \u001b[1m2s\u001b[0m 9ms/step - loss: 172.6773 - mae: 172.6773 - val_loss: 149.7986 - val_mae: 149.7986\n",
      "Epoch 5/10\n",
      "\u001b[1m282/282\u001b[0m \u001b[32m━━━━━━━━━━━━━━━━━━━━\u001b[0m\u001b[37m\u001b[0m \u001b[1m2s\u001b[0m 8ms/step - loss: 168.0907 - mae: 168.0907 - val_loss: 148.2648 - val_mae: 148.2648\n",
      "Epoch 6/10\n",
      "\u001b[1m282/282\u001b[0m \u001b[32m━━━━━━━━━━━━━━━━━━━━\u001b[0m\u001b[37m\u001b[0m \u001b[1m2s\u001b[0m 9ms/step - loss: 163.7792 - mae: 163.7792 - val_loss: 157.9741 - val_mae: 157.9741\n",
      "Epoch 7/10\n",
      "\u001b[1m282/282\u001b[0m \u001b[32m━━━━━━━━━━━━━━━━━━━━\u001b[0m\u001b[37m\u001b[0m \u001b[1m2s\u001b[0m 8ms/step - loss: 166.4666 - mae: 166.4666 - val_loss: 166.7117 - val_mae: 166.7117\n",
      "Epoch 8/10\n",
      "\u001b[1m282/282\u001b[0m \u001b[32m━━━━━━━━━━━━━━━━━━━━\u001b[0m\u001b[37m\u001b[0m \u001b[1m2s\u001b[0m 8ms/step - loss: 150.0828 - mae: 150.0828 - val_loss: 159.2332 - val_mae: 159.2332\n",
      "Epoch 9/10\n",
      "\u001b[1m282/282\u001b[0m \u001b[32m━━━━━━━━━━━━━━━━━━━━\u001b[0m\u001b[37m\u001b[0m \u001b[1m2s\u001b[0m 8ms/step - loss: 140.8101 - mae: 140.8101 - val_loss: 187.0695 - val_mae: 187.0695\n",
      "Epoch 10/10\n",
      "\u001b[1m282/282\u001b[0m \u001b[32m━━━━━━━━━━━━━━━━━━━━\u001b[0m\u001b[37m\u001b[0m \u001b[1m2s\u001b[0m 8ms/step - loss: 154.2695 - mae: 154.2695 - val_loss: 137.9109 - val_mae: 137.9109\n"
     ]
    }
   ],
   "source": [
    "history = model.fit(train_dataset, validation_data=valid_dataset, epochs=10) \n",
    "model.save_weights('./sales_model.weights.h5')"
   ]
  }
 ],
 "metadata": {
  "kaggle": {
   "accelerator": "gpu",
   "dataSources": [
    {
     "datasetId": 7421883,
     "sourceId": 11816396,
     "sourceType": "datasetVersion"
    }
   ],
   "dockerImageVersionId": 31041,
   "isGpuEnabled": true,
   "isInternetEnabled": true,
   "language": "python",
   "sourceType": "notebook"
  },
  "kernelspec": {
   "display_name": "Python 3",
   "language": "python",
   "name": "python3"
  },
  "language_info": {
   "codemirror_mode": {
    "name": "ipython",
    "version": 3
   },
   "file_extension": ".py",
   "mimetype": "text/x-python",
   "name": "python",
   "nbconvert_exporter": "python",
   "pygments_lexer": "ipython3",
   "version": "3.11.11"
  },
  "papermill": {
   "default_parameters": {},
   "duration": 60.266353,
   "end_time": "2025-05-16T02:50:44.081675",
   "environment_variables": {},
   "exception": null,
   "input_path": "__notebook__.ipynb",
   "output_path": "__notebook__.ipynb",
   "parameters": {},
   "start_time": "2025-05-16T02:49:43.815322",
   "version": "2.6.0"
  }
 },
 "nbformat": 4,
 "nbformat_minor": 5
}
