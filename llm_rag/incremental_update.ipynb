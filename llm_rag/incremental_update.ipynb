{
 "cells": [
  {
   "cell_type": "markdown",
   "id": "717b2451",
   "metadata": {},
   "source": [
    "# How to Handle Incremental Updates to Indexed Data in RAG?\n",
    "- https://github.com/microsoft/graphrag/issues/741"
   ]
  }
 ],
 "metadata": {
  "language_info": {
   "name": "python"
  }
 },
 "nbformat": 4,
 "nbformat_minor": 5
}
